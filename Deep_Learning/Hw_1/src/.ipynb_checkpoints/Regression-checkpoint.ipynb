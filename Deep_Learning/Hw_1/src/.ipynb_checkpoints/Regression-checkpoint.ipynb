{
 "cells": [
  {
   "cell_type": "code",
   "execution_count": 2,
   "metadata": {},
   "outputs": [],
   "source": [
    "import pandas as pd\n",
    "import numpy as np\n",
    "import sys\n",
    "import random\n",
    "import math"
   ]
  },
  {
   "cell_type": "markdown",
   "metadata": {},
   "source": [
    "## Read data"
   ]
  },
  {
   "cell_type": "code",
   "execution_count": 11,
   "metadata": {},
   "outputs": [],
   "source": [
    "def Read_Data(data_path):\n",
    "    df = pd.read_csv(data_path, encoding='big5')  ## Read data\n",
    "    df.drop(columns=df.columns[:3], inplace=True) ## Remove first three columns\n",
    "    df.replace('NR', 0, inplace=True)             ## Replace NR to 0\n",
    "    raw_data = df.to_numpy()\n",
    "    \n",
    "    month_data = {}\n",
    "    for month in range(12):\n",
    "        sample = np.empty([18, 480])\n",
    "        for day in range(20):\n",
    "            sample[:, day * 24 : (day + 1) * 24] = raw_data[18 * (20 * month + day) : 18 * (20 * month + day + 1), :]\n",
    "        month_data[month] = sample\n",
    "    \n",
    "    X = np.empty([12 * 471, 18 * 9], dtype = float)\n",
    "    Y = np.empty([12 * 471, 1], dtype = float)\n",
    "    for month in range(12):\n",
    "        for day in range(20):\n",
    "            for hour in range(24):\n",
    "                if day == 19 and hour > 14:\n",
    "                    continue\n",
    "                X[month * 471 + day * 24 + hour, :] = month_data[month][:,day * 24 + hour : day * 24 + hour + 9].reshape(1, -1) #vector dim:18*9 (9 9 9 9 9 9 9 9 9 9 9 9 9 9 9 9 9 9)\n",
    "                Y[month * 471 + day * 24 + hour, 0] = month_data[month][9, day * 24 + hour + 9] #value\n",
    "\n",
    "    ## Normalize  在多少個標準差內\n",
    "    mean_x = np.mean(X, axis = 0) #18 * 9 \n",
    "    std_x = np.std(X, axis = 0) #18 * 9 \n",
    "    for i in range(len(X)): #12 * 471\n",
    "        for j in range(len(X[0])): #18 * 9 \n",
    "            if std_x[j] != 0:\n",
    "                X[i][j] = (X[i][j] - mean_x[j]) / std_x[j]\n",
    "\n",
    "    X = np.insert(X, X.shape[1], values=1, axis=1)\n",
    "    return X, Y"
   ]
  },
  {
   "cell_type": "code",
   "execution_count": 14,
   "metadata": {},
   "outputs": [],
   "source": [
    "def K_Fold(size, n_series, n_parts):\n",
    "    n_valid = size//n_parts\n",
    "    \n",
    "    train_idx = []\n",
    "    valid_idx = []\n",
    "    for i in range(n_parts):\n",
    "        start = list(range(size))\n",
    "        random.shuffle(start)\n",
    "        \n",
    "        train_idx.append(start[n_valid:])\n",
    "        valid_idx.append(start[:n_valid])\n",
    "            \n",
    "            \n",
    "    return train_idx, valid_idx"
   ]
  },
  {
   "cell_type": "code",
   "execution_count": null,
   "metadata": {},
   "outputs": [],
   "source": []
  },
  {
   "cell_type": "markdown",
   "metadata": {},
   "source": [
    "## Linear Regression"
   ]
  },
  {
   "cell_type": "code",
   "execution_count": 17,
   "metadata": {},
   "outputs": [],
   "source": [
    "class LinearRegressionUsingGD:\n",
    "    \n",
    "    def __init__(self, lr=100, eps=1e-10,iters=1000):\n",
    "        self.lr = lr\n",
    "        self.eps = eps\n",
    "        self.iters = iters\n",
    "\n",
    "    def fit(self, x, y):\n",
    "        self.ω = np.zeros((x.shape[1], 1))\n",
    "        \n",
    "        for t in range(iter_time):\n",
    "            loss = np.sqrt(np.sum(np.power(np.dot(x, self.ω) - y, 2))/471/12)#rmse\n",
    "            if(t%100==0):\n",
    "                print(str(t) + \":\" + str(loss))\n",
    "            gradient = 2 * np.dot(x.transpose(), np.dot(x, self.ω) - y) #dim*1\n",
    "            adagrad += gradient ** 2\n",
    "            self.ω = self.ω - learning_rate * gradient / np.sqrt(adagrad + eps)\n",
    "            \n",
    "        return self\n",
    "    \n",
    "    def predict(self, x):\n",
    "        return np.dot(x, self.ω)\n",
    "    \n",
    "    def weight():\n",
    "        return self.w"
   ]
  },
  {
   "cell_type": "code",
   "execution_count": null,
   "metadata": {},
   "outputs": [],
   "source": []
  },
  {
   "cell_type": "markdown",
   "metadata": {},
   "source": [
    "## Training"
   ]
  },
  {
   "cell_type": "code",
   "execution_count": 19,
   "metadata": {},
   "outputs": [
    {
     "name": "stderr",
     "output_type": "stream",
     "text": [
      "/home/mj/anaconda3/envs/py36/lib/python3.6/site-packages/ipykernel_launcher.py:14: FutureWarning: Using a non-tuple sequence for multidimensional indexing is deprecated; use `arr[tuple(seq)]` instead of `arr[seq]`. In the future this will be interpreted as an array index, `arr[np.array(seq)]`, which will result either in an error or a different result.\n",
      "  \n"
     ]
    },
    {
     "ename": "IndexError",
     "evalue": "too many indices for array",
     "output_type": "error",
     "traceback": [
      "\u001b[0;31m---------------------------------------------------------------------------\u001b[0m",
      "\u001b[0;31mIndexError\u001b[0m                                Traceback (most recent call last)",
      "\u001b[0;32m<ipython-input-19-f659b24e33fd>\u001b[0m in \u001b[0;36m<module>\u001b[0;34m\u001b[0m\n\u001b[1;32m     12\u001b[0m     \u001b[0mLRGD\u001b[0m \u001b[0;34m=\u001b[0m \u001b[0mLinearRegressionUsingGD\u001b[0m\u001b[0;34m(\u001b[0m\u001b[0;34m)\u001b[0m\u001b[0;34m\u001b[0m\u001b[0;34m\u001b[0m\u001b[0m\n\u001b[1;32m     13\u001b[0m \u001b[0;34m\u001b[0m\u001b[0m\n\u001b[0;32m---> 14\u001b[0;31m     \u001b[0mx_train\u001b[0m \u001b[0;34m=\u001b[0m \u001b[0mX\u001b[0m\u001b[0;34m[\u001b[0m\u001b[0mtrain_idx\u001b[0m\u001b[0;34m]\u001b[0m\u001b[0;34m\u001b[0m\u001b[0;34m\u001b[0m\u001b[0m\n\u001b[0m\u001b[1;32m     15\u001b[0m     \u001b[0my_train\u001b[0m \u001b[0;34m=\u001b[0m \u001b[0mY\u001b[0m\u001b[0;34m[\u001b[0m\u001b[0mvalid_idx\u001b[0m\u001b[0;34m]\u001b[0m\u001b[0;34m\u001b[0m\u001b[0;34m\u001b[0m\u001b[0m\n\u001b[1;32m     16\u001b[0m     \u001b[0mx_valid\u001b[0m \u001b[0;34m=\u001b[0m \u001b[0mX\u001b[0m\u001b[0;34m[\u001b[0m\u001b[0mtrain_idx\u001b[0m\u001b[0;34m:\u001b[0m\u001b[0;34m]\u001b[0m\u001b[0;34m\u001b[0m\u001b[0;34m\u001b[0m\u001b[0m\n",
      "\u001b[0;31mIndexError\u001b[0m: too many indices for array"
     ]
    }
   ],
   "source": [
    "## 前製作業\n",
    "DATA_PATH = \"../data/train.csv\"\n",
    "X, Y = Read_Data(DATA_PATH)\n",
    "\n",
    "N_FOLDS  = 5\n",
    "train_idx, valid_idx = K_Fold(X.shape[0], 9, N_FOLDS)\n",
    "\n",
    "weight_best = None\n",
    "loss_best = sys.maxsize\n",
    "\n",
    "for i in range(N_FOLDS):\n",
    "    LRGD = LinearRegressionUsingGD()\n",
    "    \n",
    "    x_train = X[train_idx:]\n",
    "    y_train = Y[valid_idx]\n",
    "    x_valid = X[train_idx:]\n",
    "    y_valid = Y[valid_idx]\n",
    "    \n",
    "    LRGD.fit(x_train, y_train)\n",
    "    y_pred = LRGD.predict(x_valid)\n",
    "    loss = np.sqrt(np.mean(np.power(y_valid - y_pred, 2)))#rmse\n",
    "    \n",
    "    if loss < loss_best:\n",
    "        weight_best = LRGD.weight\n",
    "        loss_best = loss\n",
    "\n",
    "    print(\"Folder: {}, epoch: {}, Loss: {}\".format(i, epoch, loss_best))"
   ]
  },
  {
   "cell_type": "code",
   "execution_count": null,
   "metadata": {},
   "outputs": [],
   "source": []
  },
  {
   "cell_type": "code",
   "execution_count": null,
   "metadata": {},
   "outputs": [],
   "source": []
  }
 ],
 "metadata": {
  "kernelspec": {
   "display_name": "Python 3",
   "language": "python",
   "name": "python3"
  },
  "language_info": {
   "codemirror_mode": {
    "name": "ipython",
    "version": 3
   },
   "file_extension": ".py",
   "mimetype": "text/x-python",
   "name": "python",
   "nbconvert_exporter": "python",
   "pygments_lexer": "ipython3",
   "version": "3.6.9"
  }
 },
 "nbformat": 4,
 "nbformat_minor": 2
}
