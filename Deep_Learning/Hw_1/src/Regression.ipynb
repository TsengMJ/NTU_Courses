{
 "cells": [
  {
   "cell_type": "code",
   "execution_count": 1,
   "metadata": {},
   "outputs": [],
   "source": [
    "import sys\n",
    "import pandas as pd\n",
    "import numpy as np\n",
    "import math"
   ]
  },
  {
   "cell_type": "code",
   "execution_count": null,
   "metadata": {},
   "outputs": [],
   "source": [
    "## 修改讀取方式\n",
    "## 1. 加常數項"
   ]
  },
  {
   "cell_type": "markdown",
   "metadata": {},
   "source": [
    "## Read data"
   ]
  },
  {
   "cell_type": "code",
   "execution_count": 2,
   "metadata": {},
   "outputs": [],
   "source": [
    "def Read_Data():\n",
    "    df = pd.read_csv(\"../data/train.csv\", encoding='big5')\n",
    "    df = df.iloc[:, 3:]\n",
    "    df[df == 'NR'] = 0\n",
    "    df[df.columns] = df[df.columns].astype(float)\n",
    "    train_data = df.to_numpy()\n",
    "    \n",
    "    \n",
    "    month_data = {}\n",
    "    for month in range(12):\n",
    "        sample = np.empty([18,480])\n",
    "        for day in range(20):\n",
    "            sample[:, day*24 : (day+1)*24] = train_data[18*(20*month + day) : 18*(20*month + day + 1), :]\n",
    "\n",
    "        month_data[month] = sample\n",
    "\n",
    "    x = np.empty([12 * 471, 18 * 9], dtype = float)\n",
    "    y = np.empty([12 * 471, 1], dtype = float)\n",
    "    for month in range(12):\n",
    "        for day in range(20):\n",
    "            for hour in range(24):\n",
    "                if day == 19 and hour > 14:\n",
    "                    continue\n",
    "                x[month * 471 + day * 24 + hour, :] = month_data[month][:,day * 24 + hour : day * 24 + hour + 9].reshape(1, -1) \n",
    "                y[month * 471 + day * 24 + hour, 0] = month_data[month][9, day * 24 + hour + 9]\n",
    "\n",
    "    mean_x = np.mean(x, axis = 0) #18 * 9 \n",
    "    std_x = np.std(x, axis = 0) #18 * 9 \n",
    "    for i in range(len(x)): #12 * 471\n",
    "        for j in range(len(x[0])): #18 * 9 \n",
    "            if std_x[j] != 0:\n",
    "                x[i][j] = (x[i][j] - mean_x[j]) / std_x[j]\n",
    "    \n",
    "    return x"
   ]
  },
  {
   "cell_type": "code",
   "execution_count": 5,
   "metadata": {},
   "outputs": [
    {
     "data": {
      "text/plain": [
       "array([ 5, 11])"
      ]
     },
     "execution_count": 5,
     "metadata": {},
     "output_type": "execute_result"
    }
   ],
   "source": [
    "a = np.asarray([[1,2],[3,4]])\n",
    "b = np.asarray([1,2])\n",
    "np.dot(a,b)"
   ]
  },
  {
   "cell_type": "code",
   "execution_count": null,
   "metadata": {},
   "outputs": [],
   "source": [
    "def K_Fold(X, n_parts):\n",
    "    pass"
   ]
  },
  {
   "cell_type": "code",
   "execution_count": null,
   "metadata": {},
   "outputs": [],
   "source": []
  },
  {
   "cell_type": "markdown",
   "metadata": {},
   "source": [
    "## Linear Regression"
   ]
  },
  {
   "cell_type": "code",
   "execution_count": 8,
   "metadata": {},
   "outputs": [],
   "source": [
    "class LinearRegressionUsingGD:\n",
    "    \n",
    "    def __init__(self, lr=0.05, iters=1000):\n",
    "        self.lr = lr\n",
    "        self.iters = iters\n",
    "\n",
    "    def fit(self, x, y):\n",
    "        self.cost_ = []\n",
    "        self.w_ = np.zeros((x.shape[1], 1))\n",
    "        m = x.shape[0]\n",
    "\n",
    "        for _ in range(self.iters):\n",
    "            y_pred = np.dot(x, self.w_)\n",
    "            residuals = y_pred - y\n",
    "            gradient_vector = np.dot(x.T, residuals)\n",
    "            self.w_ -= (self.lr / m) * gradient_vector\n",
    "            cost = np.sum((residuals ** 2)) / (2 * m)\n",
    "            self.cost_.append(cost)\n",
    "            \n",
    "        return self\n",
    "\n",
    "    def predict(self, x):\n",
    "        return np.dot(x, self.w_)"
   ]
  },
  {
   "cell_type": "markdown",
   "metadata": {},
   "source": [
    "## Training"
   ]
  },
  {
   "cell_type": "code",
   "execution_count": 10,
   "metadata": {},
   "outputs": [],
   "source": [
    "## 前製作業\n",
    "N_FOLDS = 5\n",
    "\n",
    "X = Read_Data()\n",
    "k_fold = K_Fold(X, N_FOLDS)\n",
    "\n",
    "weight_best = None\n",
    "loss_best = sys.maxint\n",
    "for train_idx, valid_idx in k_fold:\n",
    "    x_train = x[train_idx, :]\n",
    "    y_train = y[train_idx, :]\n",
    "    x_valid = x[valid_idx, :]\n",
    "    y_valid = y[valid_idx, :]\n",
    "    \n",
    "    LRGD = LinearRegressionUsingGD()\n",
    "    weight = LRGD.fit(x_train, y_train)\n",
    "    predict = LRGD.predict(x_valid)\n",
    "    loss = np.sum((y_valid - predict)**2) ## MSE\n",
    "    \n",
    "    if(loss < loss_best):\n",
    "        weight_best = weight\n",
    "        loss_best = loss"
   ]
  },
  {
   "cell_type": "code",
   "execution_count": null,
   "metadata": {},
   "outputs": [],
   "source": []
  },
  {
   "cell_type": "code",
   "execution_count": null,
   "metadata": {},
   "outputs": [],
   "source": []
  }
 ],
 "metadata": {
  "kernelspec": {
   "display_name": "Python 3",
   "language": "python",
   "name": "python3"
  },
  "language_info": {
   "codemirror_mode": {
    "name": "ipython",
    "version": 3
   },
   "file_extension": ".py",
   "mimetype": "text/x-python",
   "name": "python",
   "nbconvert_exporter": "python",
   "pygments_lexer": "ipython3",
   "version": "3.6.9"
  }
 },
 "nbformat": 4,
 "nbformat_minor": 2
}
