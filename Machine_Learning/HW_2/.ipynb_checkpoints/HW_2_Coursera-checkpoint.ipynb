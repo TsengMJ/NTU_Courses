{
 "cells": [
  {
   "cell_type": "code",
   "execution_count": 29,
   "metadata": {},
   "outputs": [],
   "source": [
    "import numpy as np"
   ]
  },
  {
   "cell_type": "code",
   "execution_count": null,
   "metadata": {},
   "outputs": [],
   "source": []
  },
  {
   "cell_type": "markdown",
   "metadata": {},
   "source": [
    "## Generate data"
   ]
  },
  {
   "cell_type": "code",
   "execution_count": 107,
   "metadata": {},
   "outputs": [],
   "source": [
    "def sign(value):\n",
    "    if value >= 0:\n",
    "        return 1\n",
    "    else:\n",
    "        return -1\n",
    "\n",
    "def generate_uniform_data(start, end, size, noice_rate):\n",
    "    x = [random.uniform(start, end) for _ in range(size)]\n",
    "    y = [sign(x[i]) for i in range(size)]\n",
    "    probs = [random.uniform(0, 1) for _ in range(len(y))]\n",
    "    y = [ probs[i]<noice_rate and -value or value for i, value in enumerate(y)]\n",
    "    \n",
    "    return x, y\n",
    "\n",
    "def evaluate(x, y, theta, pn):\n",
    "    err_nums = np.sum(y != sign(x+theta))\n",
    "    \n",
    "    err_nums = 0\n",
    "    \n",
    "    for i, value in enumerate(x):\n",
    "        if y[i] != sign(pn*(value - theta)):\n",
    "            err_nums += 1\n",
    "        \n",
    "    return err_nums/len(y)\n",
    "\n",
    "def compute_Eout(theta, noice_rate, pn):\n",
    "    v = abs(theta)\n",
    "    s = 1 - noice_rate\n",
    "    Eout = 0.5 + pn*(v-1)*(s-0.5)\n",
    "    \n",
    "    return Eout"
   ]
  },
  {
   "cell_type": "code",
   "execution_count": null,
   "metadata": {},
   "outputs": [],
   "source": []
  },
  {
   "cell_type": "markdown",
   "metadata": {},
   "source": [
    "## Question 17/18"
   ]
  },
  {
   "cell_type": "code",
   "execution_count": 113,
   "metadata": {},
   "outputs": [],
   "source": [
    "def stump_algorithm(x, y, noice_rate=0.2):\n",
    "    thetas = np.sort(x)\n",
    "    pns = [-1, 1]\n",
    "    best_Ein  = 1\n",
    "    best_Eout = 1\n",
    "    for theta in thetas:\n",
    "        for pn in pns:\n",
    "            Ein = evaluate(x, y, theta, pn)\n",
    "\n",
    "            if Ein < best_Ein:\n",
    "                best_Ein  = Ein\n",
    "                best_Eout = compute_Eout(theta, noice_rate, pn)\n",
    "\n",
    "    return best_Ein, best_Eout"
   ]
  },
  {
   "cell_type": "code",
   "execution_count": null,
   "metadata": {},
   "outputs": [],
   "source": []
  },
  {
   "cell_type": "code",
   "execution_count": 114,
   "metadata": {},
   "outputs": [],
   "source": [
    "def measurement(iterations, noice_rate):\n",
    "    Ein_sum = 0\n",
    "    Eout_sum = 0\n",
    "    \n",
    "    for iter in range(iterations):\n",
    "        x, y = generate_uniform_data(-1, 1, 20, 0.2)\n",
    "        Ein, Eout = stump_algorithm(x, y, noice_rate=0.2)\n",
    "        Ein_sum += Ein\n",
    "        Eout_sum += Eout\n",
    "        \n",
    "#         if (not iter%500):\n",
    "#             print(\"-----------------------\")\n",
    "#             print(\"Round {}: \\nEin: {}\\nEout: {}\".format(iter, Ein, Eout))\n",
    "\n",
    "    return Ein_sum/iterations, Eout_sum/iterations"
   ]
  },
  {
   "cell_type": "code",
   "execution_count": 116,
   "metadata": {
    "scrolled": true
   },
   "outputs": [
    {
     "name": "stdout",
     "output_type": "stream",
     "text": [
      "0.18013000000000046\n",
      "0.25006418402020647\n"
     ]
    }
   ],
   "source": [
    "Ein, Eout = measurement(5000, 0.2)\n",
    "\n",
    "print(Ein)\n",
    "print(Eout)"
   ]
  },
  {
   "cell_type": "code",
   "execution_count": null,
   "metadata": {},
   "outputs": [],
   "source": []
  },
  {
   "cell_type": "code",
   "execution_count": null,
   "metadata": {},
   "outputs": [],
   "source": []
  },
  {
   "cell_type": "code",
   "execution_count": null,
   "metadata": {},
   "outputs": [],
   "source": []
  },
  {
   "cell_type": "markdown",
   "metadata": {},
   "source": [
    "## Question 19/20"
   ]
  },
  {
   "cell_type": "code",
   "execution_count": 118,
   "metadata": {},
   "outputs": [],
   "source": [
    "def read_data(fileName):\n",
    "    content = np.asarray([i.split() for i in open(fileName).readlines()], dtype='float')\n",
    "    x = content[:, :-1]\n",
    "    y = content[:, -1:].flatten()\n",
    "\n",
    "    return x, y"
   ]
  },
  {
   "cell_type": "code",
   "execution_count": 119,
   "metadata": {},
   "outputs": [],
   "source": [
    "def multi_dimension_stump(x, y):\n",
    "    thetas = np.sort(x)\n",
    "    pns = [-1, 1]\n",
    "    best_Ein  = 1\n",
    "    best_theta = 0\n",
    "    best_pn = 0\n",
    "    for theta in thetas:\n",
    "        for pn in pns:\n",
    "            Ein = evaluate(x, y, theta, pn)\n",
    "\n",
    "            if Ein < best_Ein:\n",
    "                best_Ein  = Ein\n",
    "                best_theta = theta\n",
    "                best_pn = pn\n",
    "\n",
    "    return best_Ein, best_theta, best_pn"
   ]
  },
  {
   "cell_type": "code",
   "execution_count": 120,
   "metadata": {},
   "outputs": [],
   "source": [
    "def multi_dimension_measurement(train_file, test_file):\n",
    "    X_train, y_train = read_data(train_file)\n",
    "    X_test, y_test = read_data(test_file)\n",
    "    best_dimension = 0\n",
    "    best_theta = 0\n",
    "    best_pn = 0\n",
    "    best_Ein = 1\n",
    "    \n",
    "    for i in range(len(X_train[0])):\n",
    "        Ein, theta, pn = multi_dimension_stump(X_train[:,i], y_train)\n",
    "        \n",
    "        if Ein < best_Ein:\n",
    "            best_Ein = Ein\n",
    "            best_dimension = i\n",
    "            best_theta = theta\n",
    "            best_pn = pn\n",
    "    \n",
    "    Eout = evaluate(X_test[:, best_dimension], y_test, best_theta, best_pn)\n",
    "            \n",
    "    return best_Ein, Eout"
   ]
  },
  {
   "cell_type": "code",
   "execution_count": 121,
   "metadata": {},
   "outputs": [
    {
     "name": "stdout",
     "output_type": "stream",
     "text": [
      "------------------\n",
      "Result:\n",
      "Ein:  0.25\n",
      "Eout: 0.36\n"
     ]
    }
   ],
   "source": [
    "train_file = \"hw2_train.dat.txt\"\n",
    "test_file = \"hw2_test.dat.txt\"\n",
    "Ein, Eout = multi_dimension_measurement(train_file, test_file)\n",
    "\n",
    "print(\"------------------\")\n",
    "print(\"Result:\")\n",
    "print(\"Ein:  {}\".format(Ein))\n",
    "print(\"Eout: {}\".format(Eout))"
   ]
  },
  {
   "cell_type": "code",
   "execution_count": null,
   "metadata": {
    "scrolled": false
   },
   "outputs": [],
   "source": []
  },
  {
   "cell_type": "code",
   "execution_count": null,
   "metadata": {},
   "outputs": [],
   "source": []
  }
 ],
 "metadata": {
  "kernelspec": {
   "display_name": "Python 3",
   "language": "python",
   "name": "python3"
  },
  "language_info": {
   "codemirror_mode": {
    "name": "ipython",
    "version": 3
   },
   "file_extension": ".py",
   "mimetype": "text/x-python",
   "name": "python",
   "nbconvert_exporter": "python",
   "pygments_lexer": "ipython3",
   "version": "3.6.9"
  }
 },
 "nbformat": 4,
 "nbformat_minor": 2
}
