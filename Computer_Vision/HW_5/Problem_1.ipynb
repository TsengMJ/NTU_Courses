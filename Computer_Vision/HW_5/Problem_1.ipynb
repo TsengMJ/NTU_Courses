{
 "cells": [
  {
   "cell_type": "code",
   "execution_count": 1,
   "metadata": {},
   "outputs": [],
   "source": [
    "import numpy as np\n",
    "import cv2\n",
    "import os"
   ]
  },
  {
   "cell_type": "markdown",
   "metadata": {},
   "source": [
    "## Read image and binarize"
   ]
  },
  {
   "cell_type": "code",
   "execution_count": 2,
   "metadata": {},
   "outputs": [],
   "source": [
    "img = cv2.imread('lena.bmp', 0)\n",
    "height, width = img.shape[:2]"
   ]
  },
  {
   "cell_type": "code",
   "execution_count": 3,
   "metadata": {},
   "outputs": [],
   "source": [
    "kernel = np.array([[0,255,255,255,0],\n",
    "                   [255,255,255,255,255],\n",
    "                   [255,255,255,255,255],\n",
    "                   [255,255,255,255,255],\n",
    "                   [0,255,255,255,0]], dtype='uint8')"
   ]
  },
  {
   "cell_type": "code",
   "execution_count": null,
   "metadata": {},
   "outputs": [],
   "source": []
  },
  {
   "cell_type": "markdown",
   "metadata": {},
   "source": [
    "## (a) Dilation"
   ]
  },
  {
   "cell_type": "code",
   "execution_count": 4,
   "metadata": {},
   "outputs": [],
   "source": [
    "def dilation(img, kernel, padding=0):\n",
    "    img_h, img_w = img.shape[0:2]\n",
    "    imap = cv2.copyMakeBorder(img,padding,padding,padding,padding, cv2.BORDER_CONSTANT)\n",
    "    dilated = np.zeros((img_h,img_w), dtype='uint8')\n",
    "    imap_h, imap_w = imap.shape[0:2]\n",
    "\n",
    "    for i in range(padding, imap_h-padding):\n",
    "        for j in range(padding, imap_w-padding):\n",
    "            tmp = np.bitwise_and(imap[i-padding:i+padding+1, j-padding:j+padding+1],kernel)\n",
    "            dilated[i-padding ,j-padding] = np.max(tmp)\n",
    "\n",
    "                \n",
    "    return dilated\n",
    "    \n",
    "\n",
    "dilated = dilation(img, kernel, padding=2)\n",
    "cv2.imshow(\"Dilated\", dilated)\n",
    "cv2.waitKey(0)\n",
    "cv2.destroyAllWindows()"
   ]
  },
  {
   "cell_type": "markdown",
   "metadata": {},
   "source": [
    "## (b) Erosion"
   ]
  },
  {
   "cell_type": "code",
   "execution_count": 5,
   "metadata": {},
   "outputs": [],
   "source": [
    "def erosion(img, kernel, padding=0):\n",
    "    img_h, img_w = img.shape[0:2]\n",
    "    imap = cv2.copyMakeBorder(img,padding,padding,padding,padding, cv2.BORDER_REPLICATE)\n",
    "    erosioned = np.zeros((img_h,img_w), dtype='uint8')\n",
    "    imap_h, imap_w = imap.shape[0:2]\n",
    "    anti_kernel = np.bitwise_not(kernel)\n",
    "    \n",
    "    for i in range(padding, imap_h-padding):\n",
    "        for j in range(padding, imap_w-padding):\n",
    "            tmp = np.bitwise_or(imap[i-padding:i+padding+1, j-padding:j+padding+1],anti_kernel)\n",
    "            erosioned[i-padding ,j-padding] = np.min(tmp)\n",
    "    \n",
    "    return erosioned\n",
    "\n",
    "erosioned = erosion(img, kernel, padding=2)\n",
    "cv2.imshow(\"Erosioned\", erosioned)\n",
    "cv2.waitKey(0)\n",
    "cv2.destroyAllWindows()"
   ]
  },
  {
   "cell_type": "markdown",
   "metadata": {},
   "source": [
    "## (c) Opening"
   ]
  },
  {
   "cell_type": "code",
   "execution_count": 8,
   "metadata": {},
   "outputs": [],
   "source": [
    "def opening(img, kernel, padding=0):\n",
    "    erosioned = erosion(img, kernel, padding=padding)\n",
    "    opened = dilation(erosioned, kernel, padding=padding)\n",
    "    \n",
    "    return opened\n",
    "\n",
    "opened = opening(img, kernel, padding=2)\n",
    "cv2.imshow(\"Opened\", opened)\n",
    "cv2.waitKey(0)\n",
    "cv2.destroyAllWindows()"
   ]
  },
  {
   "cell_type": "markdown",
   "metadata": {},
   "source": [
    "## (d) Closing"
   ]
  },
  {
   "cell_type": "code",
   "execution_count": 9,
   "metadata": {},
   "outputs": [],
   "source": [
    "def closing(img, kernel, padding=0):\n",
    "    dilated = dilation(img, kernel, padding)\n",
    "    closed = erosion(dilated, kernel, padding)\n",
    "    \n",
    "    return closed\n",
    "\n",
    "closed = closing(img, kernel, padding=2)\n",
    "cv2.imshow(\"Closed\", closed)\n",
    "cv2.waitKey(0)\n",
    "cv2.destroyAllWindows()"
   ]
  },
  {
   "cell_type": "code",
   "execution_count": null,
   "metadata": {},
   "outputs": [],
   "source": []
  }
 ],
 "metadata": {
  "kernelspec": {
   "display_name": "Python 3",
   "language": "python",
   "name": "python3"
  },
  "language_info": {
   "codemirror_mode": {
    "name": "ipython",
    "version": 3
   },
   "file_extension": ".py",
   "mimetype": "text/x-python",
   "name": "python",
   "nbconvert_exporter": "python",
   "pygments_lexer": "ipython3",
   "version": "3.6.9"
  }
 },
 "nbformat": 4,
 "nbformat_minor": 2
}
