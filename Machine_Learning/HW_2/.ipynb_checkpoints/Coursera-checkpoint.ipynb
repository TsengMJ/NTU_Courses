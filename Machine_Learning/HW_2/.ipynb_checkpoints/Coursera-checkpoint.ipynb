{
 "cells": [
  {
   "cell_type": "markdown",
   "metadata": {},
   "source": [
    "# Problem 17"
   ]
  },
  {
   "cell_type": "code",
   "execution_count": 20,
   "metadata": {},
   "outputs": [
    {
     "name": "stdout",
     "output_type": "stream",
     "text": [
      "Average Ein is : 0.17021\n"
     ]
    }
   ],
   "source": [
    "import numpy as np\n",
    "from numpy import random\n",
    "\n",
    "def getData(data_size):\n",
    "    return random.uniform(-1, 1, data_size)\n",
    "\n",
    "def sign(data, data_size, noise_rate):\n",
    "    data = np.array(data)\n",
    "    noise = random.uniform(size=data_size) - noise_rate\n",
    "    return (np.sign(data) * np.sign(noise)).astype(np.int8)\n",
    "    \n",
    "def signTest():\n",
    "    data_size = 10\n",
    "    data = random.uniform(-1, 1, data_size)\n",
    "    noise_rate = 0\n",
    "    labels = sign(data, data_size, noise_rate)\n",
    "    assert np.array_equal(labels, np.sign(data).astype(np.int8))\n",
    "    \n",
    "    noise_rate = 1\n",
    "    labels = sign(data, data_size, noise_rate)\n",
    "    assert np.array_equal(labels, np.sign(data).astype(np.int8) * -1)\n",
    "    \n",
    "def getTheta(data):\n",
    "    data = np.array(data)\n",
    "    data = np.concatenate([[-1], data, [1]])\n",
    "    theta = []\n",
    "    for i in range(len(data) - 1):\n",
    "        middle = (data[i] + data[i + 1]) / 2\n",
    "        theta.append(middle)\n",
    "    return np.array(theta)\n",
    "\n",
    "def getThetaTest():\n",
    "    data = np.array([0.1, 0.2, 0.3])\n",
    "    \n",
    "    # the range of data is [-1, 1]\n",
    "    assert ( np.all(data >= -1) and np.all(data <= 1) )\n",
    "    \n",
    "    theta = getTheta(data)\n",
    "    assert (np.sum(theta - [-0.45, 0.15, 0.25, 0.65]) < 1e-10)\n",
    "    \n",
    "\n",
    "def findThreshold(data, labels, theta, s):\n",
    "    \n",
    "    theta_array = np.repeat(theta, len(data))\n",
    "    theta_array = np.reshape(theta_array, (-1,len(data)))\n",
    "    \n",
    "    data_array = data.copy()\n",
    "    label_array = labels.copy()\n",
    "    for i in range(len(theta) - 1):\n",
    "        data_array = np.concatenate([data_array, data])\n",
    "        label_array = np.concatenate([label_array, labels])\n",
    "    data_array = np.reshape(data_array, (-1, len(data)))\n",
    "    label_array = np.reshape(label_array, (-1, len(data)))\n",
    "    \n",
    "    predictions = s * ( np.sign(data_array - theta_array).astype(np.int8)  )\n",
    "    inner_product = np.diag(np.inner(predictions, label_array))\n",
    "    max_innerProduct = np.max(inner_product)\n",
    "    threshold_index = np.argmax(inner_product)\n",
    "    return [max_innerProduct, threshold_index]\n",
    "    \n",
    "# s = 1 means positive ray, and vice versa\n",
    "def calEin(data, labels, theta, s):\n",
    "    \n",
    "    [max_innerProduct, _] = findThreshold(data, labels, theta, s)                \n",
    "    \n",
    "    min_error = (len(data) - max_innerProduct) / 2\n",
    "    assert (min_error >= 0)\n",
    "    \n",
    "    return int(min_error)\n",
    "\n",
    "def calEinTest():\n",
    "    data = [ -0.1, 0.1, 0.2, 0.3, -0.4]\n",
    "    data = np.sort(data)\n",
    "    theta = getTheta(data)\n",
    "    labels = [-1, 1, 1, -1, -1]\n",
    "    print(calEin(data, labels, theta, 1))\n",
    "    print(calEin(data, labels, theta, -1))\n",
    "    \n",
    "        \n",
    "        \n",
    "\n",
    "if __name__ == '__main__':\n",
    "    signTest()\n",
    "    getThetaTest()\n",
    "    # calEinTest()\n",
    "    data_size = 20\n",
    "    noise_rate = 0.2\n",
    "    epoch = 5000\n",
    "    \n",
    "    \n",
    "    errors = np.zeros(epoch, dtype = np.float)\n",
    "    for i in range(epoch):\n",
    "        \n",
    "        # get Data by uniform distribution in [-1, 1]\n",
    "        data = getData(data_size)\n",
    "        data = np.sort(data)\n",
    "        \n",
    "        # calculate (n + 1) theta from (n) data \n",
    "        theta = getTheta(data)\n",
    "        \n",
    "        # positive array\n",
    "        pos_error = calEin(data, sign(data, data_size, noise_rate), theta, 1)\n",
    "\n",
    "        # negative array\n",
    "        neg_error = calEin(data, sign(data, data_size, noise_rate), theta, -1)\n",
    "        \n",
    "        errors[i] = np.min([pos_error, neg_error]) / data_size\n",
    "    \n",
    "    print(\"Average Ein is : {}\".format(np.mean(errors)))\n",
    "    "
   ]
  },
  {
   "cell_type": "markdown",
   "metadata": {},
   "source": [
    "# Problem 18"
   ]
  },
  {
   "cell_type": "code",
   "execution_count": 21,
   "metadata": {},
   "outputs": [
    {
     "name": "stdout",
     "output_type": "stream",
     "text": [
      "Eout is : 0.25354118069189935\n"
     ]
    }
   ],
   "source": [
    "import math\n",
    "def calEout(data, labels, theta, s):\n",
    "    [_, threshold_index] = findThreshold(data, labels, theta, s)\n",
    "    threshold = theta[threshold_index]\n",
    "    return 0.5 + 0.3 * s * (math.fabs(threshold) - 1)\n",
    "\n",
    "if __name__ == '__main__':\n",
    "    \n",
    "    data_size = 20\n",
    "    noise_rate = 0.2\n",
    "    epoch = 5000\n",
    "    errors = np.zeros(epoch, dtype = np.float)\n",
    "    for i in range(epoch):\n",
    "        \n",
    "        # get Data by uniform distribution in [-1, 1]\n",
    "        data = getData(data_size)\n",
    "        data = np.sort(data)\n",
    "\n",
    "        # calculate (n + 1) theta from (n) data \n",
    "        theta = getTheta(data)\n",
    "\n",
    "        # positive ray\n",
    "        pos_error = calEout(data, sign(data, data_size, noise_rate), theta, 1)\n",
    "\n",
    "        # negative ray\n",
    "        neg_error = calEout(data, sign(data, data_size, noise_rate), theta, -1)\n",
    "\n",
    "        errors[i] = np.min([pos_error, neg_error])\n",
    "    print('Eout is : {}'.format(np.mean(errors)))"
   ]
  },
  {
   "cell_type": "markdown",
   "metadata": {},
   "source": [
    "# Problem 19"
   ]
  },
  {
   "cell_type": "code",
   "execution_count": 6,
   "metadata": {},
   "outputs": [],
   "source": [
    "def readFile(fileName, typeOfElement):\n",
    "    fp = open(fileName)\n",
    "    content = []\n",
    "    count = 0\n",
    "    for line in fp.readlines():\n",
    "        content.append(line.split())\n",
    "    content = np.array(content, dtype = typeOfElement)\n",
    "    return content\n",
    "\n",
    "def splitDataAndLabel(rawData):\n",
    "    points = []\n",
    "    labels = []\n",
    "    for index, element in enumerate(rawData):\n",
    "        points.append(element[0:9])\n",
    "        labels.append(element[9])\n",
    "    points = np.array(points)\n",
    "    labels = np.array(labels)\n",
    "    return points, labels\n",
    "        "
   ]
  },
  {
   "cell_type": "code",
   "execution_count": 7,
   "metadata": {},
   "outputs": [
    {
     "name": "stdout",
     "output_type": "stream",
     "text": [
      "Ein is : 0.25\n"
     ]
    }
   ],
   "source": [
    "fileName = \"hw2_train.dat\"\n",
    "\n",
    "rawData = readFile(fileName, 'float')\n",
    "points, labels = splitDataAndLabel(rawData)\n",
    "dims = points.shape[1]  # It's 9 here\n",
    "\n",
    "errors = np.zeros(dims)\n",
    "for dim in range(dims):\n",
    "    \n",
    "    data = []\n",
    "    for index in range(points.shape[0]):\n",
    "        data.append([points.T[dim][index], labels[index]])\n",
    "\n",
    "    data.sort(key = lambda element:element[0])\n",
    "    data = np.array(data)\n",
    "    sorted_data = np.array(data[:,0])\n",
    "    sorted_labels = np.array(data[:,1])\n",
    "    \n",
    "    # calculate (n + 1) theta from (n) data \n",
    "    theta = getTheta(sorted_data)\n",
    "    \n",
    "    # positive ray\n",
    "    pos_error = calEin(sorted_data, sorted_labels, theta, 1)\n",
    "    \n",
    "    # negative ray\n",
    "    neg_error = calEin(sorted_data, sorted_labels, theta, -1)\n",
    "    \n",
    "    errors[dim] = np.min([pos_error, neg_error]) / len(sorted_data)\n",
    "    \n",
    "print('Ein is : {}'.format(np.min(errors)))"
   ]
  },
  {
   "cell_type": "markdown",
   "metadata": {},
   "source": [
    "# Problem 20"
   ]
  },
  {
   "cell_type": "code",
   "execution_count": null,
   "metadata": {},
   "outputs": [],
   "source": [
    "fileName = \"hw2_test.dat\"\n",
    "\n",
    "rawData = readFile(fileName, 'float')\n",
    "points, labels = splitDataAndLabel(rawData)\n",
    "dims = points.shape[1]  # It's 9 here\n",
    "\n",
    "errors = np.zeros(dims)\n",
    "for dim in range(dims):\n",
    "    \n",
    "    data = []\n",
    "    for index in range(points.shape[0]):\n",
    "        data.append([points.T[dim][index], labels[index]])\n",
    "\n",
    "    data.sort(key = lambda element:element[0])\n",
    "    data = np.array(data)\n",
    "    \n",
    "    # calculate (n + 1) theta from (n) data \n",
    "    theta = getTheta(data[:,0])\n",
    "    \n",
    "    # positive ray\n",
    "    pos_error = calEin(data[:,0], data[:,1], theta, 1)\n",
    "    \n",
    "    # negative ray\n",
    "    neg_error = calEin(data[:,0], data[:,1], theta, -1)\n",
    "    \n",
    "    errors[dim] = np.min([pos_error, neg_error]) / data.shape[0]\n",
    "    \n",
    "print('Eout is : {}'.format(np.min(errors)))"
   ]
  },
  {
   "cell_type": "code",
   "execution_count": null,
   "metadata": {},
   "outputs": [],
   "source": []
  }
 ],
 "metadata": {
  "kernelspec": {
   "display_name": "Python 3",
   "language": "python",
   "name": "python3"
  },
  "language_info": {
   "codemirror_mode": {
    "name": "ipython",
    "version": 3
   },
   "file_extension": ".py",
   "mimetype": "text/x-python",
   "name": "python",
   "nbconvert_exporter": "python",
   "pygments_lexer": "ipython3",
   "version": "3.6.9"
  }
 },
 "nbformat": 4,
 "nbformat_minor": 2
}
