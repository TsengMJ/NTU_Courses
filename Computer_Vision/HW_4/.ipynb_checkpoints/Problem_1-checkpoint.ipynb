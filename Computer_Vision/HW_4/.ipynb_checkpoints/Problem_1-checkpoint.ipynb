{
 "cells": [
  {
   "cell_type": "code",
   "execution_count": 1,
   "metadata": {},
   "outputs": [],
   "source": [
    "import numpy as np\n",
    "import cv2\n",
    "import os"
   ]
  },
  {
   "cell_type": "markdown",
   "metadata": {},
   "source": [
    "## Read image and binarize"
   ]
  },
  {
   "cell_type": "code",
   "execution_count": 11,
   "metadata": {},
   "outputs": [],
   "source": [
    "img = cv2.imread('lena.bmp', 0)\n",
    "_, img = cv2.threshold(img, 128, 255, cv2.THRESH_BINARY)\n",
    "height, width = img.shape[:2]"
   ]
  },
  {
   "cell_type": "code",
   "execution_count": 37,
   "metadata": {},
   "outputs": [],
   "source": [
    "kernel = np.array([[0,255,255,255,0],\n",
    "                   [255,255,255,255,255],\n",
    "                   [255,255,255,255,255],\n",
    "                   [255,255,255,255,255],\n",
    "                   [0,255,255,255,0]], dtype='uint8')"
   ]
  },
  {
   "cell_type": "markdown",
   "metadata": {},
   "source": [
    "## (a) Dilation"
   ]
  },
  {
   "cell_type": "code",
   "execution_count": 38,
   "metadata": {},
   "outputs": [],
   "source": [
    "def dilation(img, kernel, padding=0):\n",
    "    img_h, img_w = img.shape[0:2]\n",
    "    imap = np.zeros((img_h+2*padding, img_w+2*padding), dtype='uint8')\n",
    "    imap_h, imap_w = imap.shape[0:2]\n",
    "    \n",
    "    for i in range(padding, imap_h-padding):\n",
    "        for j in range(padding, imap_w-padding):\n",
    "            if img[i-padding,j-padding] == 255:\n",
    "                imap[i-padding:i+padding+1, j-padding:j+padding+1] |= kernel\n",
    "                \n",
    "    dilated = imap[padding:imap_h-padding, padding:imap_w-padding]\n",
    "    return dilated\n",
    "    \n",
    "\n",
    "dilated = dilation(img, kernel, padding=2)\n",
    "cv2.imshow(\"Dilated\", dilated)\n",
    "cv2.waitKey(0)\n",
    "cv2.destroyAllWindows()"
   ]
  },
  {
   "cell_type": "markdown",
   "metadata": {},
   "source": [
    "## (b) Erosion"
   ]
  },
  {
   "cell_type": "code",
   "execution_count": 75,
   "metadata": {},
   "outputs": [],
   "source": [
    "def erosion(img, kernel, padding=0):\n",
    "    img_comp = cv2.bitwise_not(img)\n",
    "    img_h, img_w = img.shape[0:2]\n",
    "    imap = np.zeros((img_h+2*padding, img_w+2*padding), dtype='uint8')\n",
    "    imap_h, imap_w = imap.shape[0:2]\n",
    "    \n",
    "    ## Flip kernel \n",
    "    _kernel = np.flip(np.flip(kernel, axis=1), axis=0)\n",
    "    \n",
    "    for i in range(padding, imap_h-padding):\n",
    "        for j in range(padding, imap_w-padding):\n",
    "            if img_comp[i-padding,j-padding] == 255:\n",
    "                imap[i-padding:i+padding+1, j-padding:j+padding+1] |= _kernel\n",
    "                \n",
    "    erosioned = imap[padding:imap_h-padding, padding:imap_w-padding]\n",
    "    erosioned = cv2.bitwise_not(erosioned)\n",
    "    \n",
    "    return erosioned\n",
    "\n",
    "erosioned = erosion(img, kernel, padding=2)\n",
    "cv2.imshow(\"Erosioned\", erosioned)\n",
    "cv2.waitKey(0)\n",
    "cv2.destroyAllWindows()"
   ]
  },
  {
   "cell_type": "markdown",
   "metadata": {},
   "source": [
    "## (c) Opening"
   ]
  },
  {
   "cell_type": "code",
   "execution_count": 51,
   "metadata": {},
   "outputs": [],
   "source": [
    "def opening(img, kernel, padding=0):\n",
    "    erosioned = erosion(img, kernel, padding=padding)\n",
    "    opened = dilation(erosioned, kernel, padding=padding)\n",
    "    \n",
    "    return opened\n",
    "\n",
    "opened = opening(img, kernel, padding=2)\n",
    "cv2.imshow(\"Opened\", opened)\n",
    "cv2.waitKey(0)\n",
    "cv2.destroyAllWindows()"
   ]
  },
  {
   "cell_type": "markdown",
   "metadata": {},
   "source": [
    "## (d) Closing"
   ]
  },
  {
   "cell_type": "code",
   "execution_count": 60,
   "metadata": {},
   "outputs": [],
   "source": [
    "def closing(img, kernel, padding=0):\n",
    "    dilated = dilation(img, kernel, padding)\n",
    "    closed = erosion(dilated, kernel, padding)\n",
    "    \n",
    "    return closed\n",
    "\n",
    "closed = closing(img, kernel, padding=2)\n",
    "cv2.imshow(\"Closed\", closed)\n",
    "cv2.waitKey(0)\n",
    "cv2.destroyAllWindows()"
   ]
  },
  {
   "cell_type": "markdown",
   "metadata": {},
   "source": [
    "## (e) Hit-and-miss transform"
   ]
  },
  {
   "cell_type": "code",
   "execution_count": 77,
   "metadata": {},
   "outputs": [],
   "source": [
    "kernel_1 = np.array([[0  ,0  ,0  ],\n",
    "                     [255,255,0  ],\n",
    "                     [0  ,255,0  ]], dtype='uint8')\n",
    "\n",
    "kernel_2 = np.array([[0  ,255,255],\n",
    "                     [0  ,0  ,255],\n",
    "                     [0  ,0  ,0  ]], dtype='uint8')"
   ]
  },
  {
   "cell_type": "code",
   "execution_count": 80,
   "metadata": {},
   "outputs": [],
   "source": [
    "def hit_and_miss(img, kernel_1, kernel_2, padding=0):\n",
    "    img_comp = cv2.bitwise_not(img)\n",
    "    hit = erosion(img, kernel_1, padding=padding)\n",
    "    miss = erosion(img_comp, kernel_2, padding=padding)\n",
    "    \n",
    "    cv2.imshow(\"hit\", hit)\n",
    "    cv2.imshow(\"miss\", miss)\n",
    "\n",
    "    \n",
    "    ham = cv2.bitwise_and(hit,miss)\n",
    "    \n",
    "    return ham\n",
    "\n",
    "ham = hit_and_miss(img, kernel_1, kernel_2, padding=1)\n",
    "cv2.imshow(\"Hit and miss\", ham)\n",
    "cv2.waitKey(0)\n",
    "cv2.destroyAllWindows()"
   ]
  },
  {
   "cell_type": "code",
   "execution_count": null,
   "metadata": {},
   "outputs": [],
   "source": []
  },
  {
   "cell_type": "code",
   "execution_count": 45,
   "metadata": {},
   "outputs": [
    {
     "data": {
      "text/plain": [
       "array([[31, 32, 33, 34],\n",
       "       [21, 22, 23, 24],\n",
       "       [11, 12, 13, 11]])"
      ]
     },
     "execution_count": 45,
     "metadata": {},
     "output_type": "execute_result"
    }
   ],
   "source": [
    " x = [[11, 13, 12, 11],\n",
    "     [24, 23, 22, 21],\n",
    "     [34, 33, 32, 31]]\n",
    "    \n",
    "x = np.flip(x, 1)\n",
    "np.flip(x, 0)"
   ]
  },
  {
   "cell_type": "code",
   "execution_count": null,
   "metadata": {},
   "outputs": [],
   "source": []
  }
 ],
 "metadata": {
  "kernelspec": {
   "display_name": "Python 3",
   "language": "python",
   "name": "python3"
  },
  "language_info": {
   "codemirror_mode": {
    "name": "ipython",
    "version": 3
   },
   "file_extension": ".py",
   "mimetype": "text/x-python",
   "name": "python",
   "nbconvert_exporter": "python",
   "pygments_lexer": "ipython3",
   "version": "3.6.9"
  }
 },
 "nbformat": 4,
 "nbformat_minor": 2
}
