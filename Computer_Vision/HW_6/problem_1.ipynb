{
 "cells": [
  {
   "cell_type": "code",
   "execution_count": 1,
   "metadata": {},
   "outputs": [],
   "source": [
    "import numpy as np\n",
    "import cv2"
   ]
  },
  {
   "cell_type": "code",
   "execution_count": 8,
   "metadata": {},
   "outputs": [],
   "source": [
    "img = cv2.imread(\"lena.bmp\", 0)\n",
    "_, img = cv2.threshold(img, 128, 255, cv2.THRESH_BINARY)"
   ]
  },
  {
   "cell_type": "code",
   "execution_count": null,
   "metadata": {},
   "outputs": [],
   "source": []
  },
  {
   "cell_type": "markdown",
   "metadata": {},
   "source": [
    "## Yokoi connectivity number "
   ]
  },
  {
   "cell_type": "code",
   "execution_count": 10,
   "metadata": {},
   "outputs": [],
   "source": [
    "def Yokoi(img):\n",
    "    map = cv2.copyMakeBorder(img,1,1,1,1, cv2.BORDER_CONSTANT)\n",
    "    yokoi = \"\"\n",
    "    \n",
    "    ## Downsample\n",
    "    for i in range(64):\n",
    "        for j in range(64):\n",
    "            tmp = img[i*8+1, j*8+1]\n",
    "            \n",
    "            if tmp == 0:\n",
    "                yokoi += \" \"\n",
    "                continue\n",
    "                \n",
    "            q_num = 0\n",
    "            if(img[i*8, j*8] ==0 && img[i*8, (j+1)*8]): \n",
    "                q_num += 1\n",
    "            if(img[i*8, j*8] ==0 && img[i*8, (j+1)*8]): \n",
    "                q_num += 1\n",
    "            if(img[i*8, j*8] ==0 && img[i*8, (j+1)*8]): \n",
    "                q_num += 1\n",
    "            if(img[i*8, j*8] ==0 && img[i*8, (j+1)*8]): \n",
    "                q_num += 1\n",
    "                \n",
    "            \n",
    "    \n",
    "    \n",
    "    \n",
    "    return yokoi\n",
    "\n",
    "\n",
    "yokoi = Yokoi(img)\n",
    "cv2.imshow(\"Yokoi\", yokoi)\n",
    "cv2.waitKey(0)\n",
    "cv2.destroyAllWindows()"
   ]
  },
  {
   "cell_type": "code",
   "execution_count": 13,
   "metadata": {},
   "outputs": [
    {
     "data": {
      "text/plain": [
       "'12344'"
      ]
     },
     "execution_count": 13,
     "metadata": {},
     "output_type": "execute_result"
    }
   ],
   "source": [
    "s = \"123\" + \"4\"\n",
    "s += \"4\"\n",
    "s"
   ]
  },
  {
   "cell_type": "code",
   "execution_count": null,
   "metadata": {},
   "outputs": [],
   "source": []
  }
 ],
 "metadata": {
  "kernelspec": {
   "display_name": "Python 3",
   "language": "python",
   "name": "python3"
  },
  "language_info": {
   "codemirror_mode": {
    "name": "ipython",
    "version": 3
   },
   "file_extension": ".py",
   "mimetype": "text/x-python",
   "name": "python",
   "nbconvert_exporter": "python",
   "pygments_lexer": "ipython3",
   "version": "3.6.9"
  }
 },
 "nbformat": 4,
 "nbformat_minor": 2
}
