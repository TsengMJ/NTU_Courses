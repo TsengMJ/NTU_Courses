{
 "cells": [
  {
   "cell_type": "code",
   "execution_count": 2,
   "metadata": {},
   "outputs": [],
   "source": [
    "import numpy as np\n",
    "import random"
   ]
  },
  {
   "cell_type": "code",
   "execution_count": null,
   "metadata": {},
   "outputs": [],
   "source": []
  },
  {
   "cell_type": "code",
   "execution_count": 3,
   "metadata": {},
   "outputs": [],
   "source": [
    "def sign(x):\n",
    "    return (x>=0) and 1 or -1\n",
    "\n",
    "def func(x1,x2):\n",
    "    return sign(x1**2 + x2**2 - 0.6)\n",
    "\n",
    "def generateX(N):\n",
    "    X=[]\n",
    "    Y=[]\n",
    "    for i in range(N):\n",
    "        x1=random.uniform(-1,1)\n",
    "        x2=random.uniform(-1,1)\n",
    "        y=func(x1,x2)\n",
    "        noise=random.random()\n",
    "        if(noise<=0.1):\n",
    "            y=-y\n",
    "        X.append([1,x1,x2])\n",
    "        Y.append([y])\n",
    "    return np.mat(X),np.array(Y)\n",
    "\n",
    "def tranLR(x,y):\n",
    "    pseudo_inverse = np.linalg.pinv(x)\n",
    "    w = pseudo_inverse*y\n",
    "    return np.array(w)\n",
    "\n",
    "def error(w,x,y):\n",
    "    y1= x*w\n",
    "    y1= list(map(sign,y1))\n",
    "    y = list(map(lambda x: x[0], y))\n",
    "    errorNum=np.sum(np.array(y1)!=np.array(y))\n",
    "    return errorNum/len(y)"
   ]
  },
  {
   "cell_type": "markdown",
   "metadata": {},
   "source": [
    "## 13"
   ]
  },
  {
   "cell_type": "code",
   "execution_count": 5,
   "metadata": {},
   "outputs": [
    {
     "name": "stdout",
     "output_type": "stream",
     "text": [
      "0.5054360000000004\n"
     ]
    }
   ],
   "source": [
    "errorSum=0\n",
    "for i in range(1000):\n",
    "    x, y =generateX(1000)\n",
    "    w = tranLR(x,y)\n",
    "    errorSum += error(w,x,y)\n",
    "print(errorSum/1000)"
   ]
  },
  {
   "cell_type": "markdown",
   "metadata": {},
   "source": [
    "## 14 ~ 15"
   ]
  },
  {
   "cell_type": "code",
   "execution_count": null,
   "metadata": {},
   "outputs": [],
   "source": [
    "def generate14(N):\n",
    "    X=[]\n",
    "    Y=[]\n",
    "    for i in range(N):\n",
    "        x1=random.uniform(-1,1)\n",
    "        x2=random.uniform(-1,1)\n",
    "        y=func(x1,x2)\n",
    "        noise=random.random()\n",
    "        if(noise<=0.1):\n",
    "            y=-y\n",
    "        X.append([1, x1, x2, x1*x2, x1**2, x2**2])\n",
    "        Y.append([y])\n",
    "    return np.mat(X),np.array(Y)\n",
    "\n",
    "\n",
    "errorSum=0\n",
    "ws = []\n",
    "for i in range(1000):\n",
    "    x, y =generate14(1000)\n",
    "    w = tranLR(x,y)\n",
    "    ws.append(w)\n",
    "    errorSum += error(w,x,y)\n",
    "    \n",
    "print(errorSum/1000)\n",
    "print(np.mean(ws, axis=0))"
   ]
  },
  {
   "cell_type": "code",
   "execution_count": null,
   "metadata": {},
   "outputs": [],
   "source": []
  }
 ],
 "metadata": {
  "kernelspec": {
   "display_name": "Python 3",
   "language": "python",
   "name": "python3"
  },
  "language_info": {
   "codemirror_mode": {
    "name": "ipython",
    "version": 3
   },
   "file_extension": ".py",
   "mimetype": "text/x-python",
   "name": "python",
   "nbconvert_exporter": "python",
   "pygments_lexer": "ipython3",
   "version": "3.6.9"
  }
 },
 "nbformat": 4,
 "nbformat_minor": 2
}
