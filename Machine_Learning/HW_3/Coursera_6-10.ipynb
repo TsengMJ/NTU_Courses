{
 "cells": [
  {
   "cell_type": "code",
   "execution_count": 1,
   "metadata": {},
   "outputs": [],
   "source": [
    "import numpy as np"
   ]
  },
  {
   "cell_type": "code",
   "execution_count": null,
   "metadata": {},
   "outputs": [],
   "source": []
  },
  {
   "cell_type": "markdown",
   "metadata": {},
   "source": [
    "## Define E(u,v), $\\frac{dE(u,v)}{du}$, $\\frac{dE(u,v)}{dv}$"
   ]
  },
  {
   "cell_type": "code",
   "execution_count": 2,
   "metadata": {},
   "outputs": [],
   "source": [
    "def E(u,v):\n",
    "    return np.exp(u) + np.exp(2*v) + np.exp(u*v) + u**2 - 2*u*v +2*v**2 - 3*u - 2*v"
   ]
  },
  {
   "cell_type": "code",
   "execution_count": 3,
   "metadata": {},
   "outputs": [],
   "source": [
    "def PGrad_u(u, v):\n",
    "    return np.exp(u) + v*np.exp(u*v) + 2*(u - v) - 3"
   ]
  },
  {
   "cell_type": "code",
   "execution_count": 4,
   "metadata": {},
   "outputs": [],
   "source": [
    "def PGrad_v(u, v):\n",
    "    return 2*np.exp(2*v) + u*np.exp(u*v) - 2*u + 4*v - 2"
   ]
  },
  {
   "cell_type": "code",
   "execution_count": 16,
   "metadata": {},
   "outputs": [],
   "source": [
    "def PGrad_uu(u, v):\n",
    "    return np.exp(u) + v*v*np.exp(u*v) + 2"
   ]
  },
  {
   "cell_type": "code",
   "execution_count": 17,
   "metadata": {},
   "outputs": [],
   "source": [
    "def PGrad_vv(u, v):\n",
    "    return 4*np.exp(2*v) + u*u*np.exp(u*v) + 4"
   ]
  },
  {
   "cell_type": "code",
   "execution_count": 18,
   "metadata": {},
   "outputs": [],
   "source": [
    "def PGrad_uv(u, v):\n",
    "    return u*v*np.exp(u*v) - 2"
   ]
  },
  {
   "cell_type": "code",
   "execution_count": 8,
   "metadata": {},
   "outputs": [],
   "source": [
    "def Update(u_init, v_init, times, l_rate):\n",
    "    u = u_init\n",
    "    v = v_init\n",
    "    for i in range(times):\n",
    "        gu = PGrad_u(u,v)\n",
    "        gv = PGrad_v(u,v)\n",
    "        \n",
    "        u  = u - l_rate*gu\n",
    "        v  = v - l_rate*gv\n",
    "    \n",
    "    return u, v"
   ]
  },
  {
   "cell_type": "code",
   "execution_count": null,
   "metadata": {},
   "outputs": [],
   "source": []
  },
  {
   "cell_type": "markdown",
   "metadata": {},
   "source": [
    "## Question 6"
   ]
  },
  {
   "cell_type": "code",
   "execution_count": 9,
   "metadata": {},
   "outputs": [
    {
     "name": "stdout",
     "output_type": "stream",
     "text": [
      "-2.0\n",
      "0.0\n"
     ]
    }
   ],
   "source": [
    "u = PGrad_u(0,0)\n",
    "v = PGrad_v(0,0)\n",
    "\n",
    "print(u)\n",
    "print(v)"
   ]
  },
  {
   "cell_type": "markdown",
   "metadata": {},
   "source": [
    "## Question 7"
   ]
  },
  {
   "cell_type": "code",
   "execution_count": 10,
   "metadata": {},
   "outputs": [
    {
     "name": "stdout",
     "output_type": "stream",
     "text": [
      "2.8250003566832635\n"
     ]
    }
   ],
   "source": [
    "u5, v5 = Update(0,0,5,0.01)\n",
    "\n",
    "E5 = E(u5, v5)\n",
    "\n",
    "print(E5)"
   ]
  },
  {
   "cell_type": "markdown",
   "metadata": {},
   "source": [
    "## Question 10"
   ]
  },
  {
   "cell_type": "code",
   "execution_count": 15,
   "metadata": {},
   "outputs": [
    {
     "name": "stdout",
     "output_type": "stream",
     "text": [
      "2.3608239464402625\n"
     ]
    }
   ],
   "source": [
    "def Newton_Update(u_init, v_init, times):\n",
    "    u, v = u_init, v_init\n",
    "\n",
    "    for i in range(times):\n",
    "        gu  = PGrad_u(u,v)\n",
    "        gv  = PGrad_v(u,v)\n",
    "        guu = PGrad_uu(u,v)\n",
    "        gvv = PGrad_vv(u,v)\n",
    "        guv = PGrad_uv(u,v)\n",
    "        H = np.mat([[guu,guv],[guv,gvv]])\n",
    "        grad = np.array([[gu],[gv]])\n",
    "        delta = H.I * grad\n",
    "        delta = delta.tolist()\n",
    "        \n",
    "        u = u-delta[0][0]\n",
    "        v = v-delta[1][0]\n",
    "\n",
    "    return u, v\n",
    "\n",
    "u5, v5 = Newton_Update(0,0,5)\n",
    "E5 = E(u5, v5)\n",
    "\n",
    "print(E5)"
   ]
  },
  {
   "cell_type": "code",
   "execution_count": null,
   "metadata": {},
   "outputs": [],
   "source": []
  }
 ],
 "metadata": {
  "kernelspec": {
   "display_name": "Python 3",
   "language": "python",
   "name": "python3"
  },
  "language_info": {
   "codemirror_mode": {
    "name": "ipython",
    "version": 3
   },
   "file_extension": ".py",
   "mimetype": "text/x-python",
   "name": "python",
   "nbconvert_exporter": "python",
   "pygments_lexer": "ipython3",
   "version": "3.6.9"
  }
 },
 "nbformat": 4,
 "nbformat_minor": 2
}
