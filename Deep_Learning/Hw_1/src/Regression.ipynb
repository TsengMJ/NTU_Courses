{
 "cells": [
  {
   "cell_type": "code",
   "execution_count": 2,
   "metadata": {},
   "outputs": [],
   "source": [
    "import pandas as pd\n",
    "import numpy as np\n",
    "import sys\n",
    "import random\n",
    "import math"
   ]
  },
  {
   "cell_type": "markdown",
   "metadata": {},
   "source": [
    "## Read data"
   ]
  },
  {
   "cell_type": "code",
   "execution_count": 86,
   "metadata": {},
   "outputs": [],
   "source": [
    "def Read_Data(data_path):\n",
    "    df = pd.read_csv(data_path, encoding='big5')  ## Read data\n",
    "    df.drop(columns=df.columns[:3], inplace=True) ## Remove first three columns\n",
    "    df.replace('NR', 0, inplace=True)             ## Replace NR to 0\n",
    "    df = df.astype(np.float)\n",
    "    raw_data = df.to_numpy()\n",
    "    raw_data[raw_data<0] = 0\n",
    "    \n",
    "    month_data = {}\n",
    "    for month in range(12):\n",
    "        sample = np.empty([18, 480])\n",
    "        for day in range(20):\n",
    "            sample[:, day * 24 : (day + 1) * 24] = raw_data[18 * (20 * month + day) : 18 * (20 * month + day + 1), :]\n",
    "        month_data[month] = sample\n",
    "    \n",
    "    X = np.empty([12 * 471, 18 * 9], dtype = float)\n",
    "    Y = np.empty([12 * 471, 1], dtype = float)\n",
    "    for month in range(12):\n",
    "        for day in range(20):\n",
    "            for hour in range(24):\n",
    "                if day == 19 and hour > 14:\n",
    "                    continue\n",
    "                X[month * 471 + day * 24 + hour, :] = month_data[month][:,day * 24 + hour : day * 24 + hour + 9].reshape(1, -1) #vector dim:18*9 (9 9 9 9 9 9 9 9 9 9 9 9 9 9 9 9 9 9)\n",
    "                Y[month * 471 + day * 24 + hour, 0] = month_data[month][9, day * 24 + hour + 9] #value\n",
    "\n",
    "    ## Normalize  在多少個標準差內\n",
    "    mean_x = np.mean(X, axis = 0) #18 * 9 \n",
    "    std_x = np.std(X, axis = 0) #18 * 9 \n",
    "    for i in range(len(X)): #12 * 471\n",
    "        for j in range(len(X[0])): #18 * 9 \n",
    "            if std_x[j] != 0:\n",
    "                X[i][j] = (X[i][j] - mean_x[j]) / std_x[j]\n",
    "\n",
    "    X = np.insert(X, X.shape[1], values=1, axis=1)\n",
    "    return X, Y"
   ]
  },
  {
   "cell_type": "code",
   "execution_count": 87,
   "metadata": {},
   "outputs": [],
   "source": [
    "def K_Fold(size, n_series, n_parts):\n",
    "    n_valid = size//n_parts\n",
    "    \n",
    "    train_idx = []\n",
    "    valid_idx = []\n",
    "    for i in range(n_parts):\n",
    "        start = list(range(size))\n",
    "        random.shuffle(start)\n",
    "        \n",
    "        train_idx.append(start[n_valid:])\n",
    "        valid_idx.append(start[:n_valid])\n",
    "            \n",
    "            \n",
    "    return train_idx, valid_idx"
   ]
  },
  {
   "cell_type": "code",
   "execution_count": null,
   "metadata": {},
   "outputs": [],
   "source": []
  },
  {
   "cell_type": "markdown",
   "metadata": {},
   "source": [
    "## Linear Regression"
   ]
  },
  {
   "cell_type": "code",
   "execution_count": 93,
   "metadata": {},
   "outputs": [],
   "source": [
    "class LinearRegressionUsingGD:\n",
    "    \n",
    "    def __init__(self, lr=20, eps=1e-10,iters=3000):\n",
    "        self.lr = lr\n",
    "        self.eps = eps\n",
    "        self.iters = iters\n",
    "        \n",
    "    def fit(self, x, y):\n",
    "        self.ω = np.zeros((x.shape[1], 1))\n",
    "        adagrad = np.zeros((x.shape[1], 1))\n",
    "        \n",
    "        for t in range(self.iters):\n",
    "            loss = np.sqrt(np.mean(np.power(np.dot(x, self.ω) - y, 2)))#rmse\n",
    "            if((t+1)%500==0):\n",
    "                print(str(t+1) + \":\" + str(loss))\n",
    "            gradient = 2 * np.dot(x.transpose(), np.dot(x, self.ω) - y) #dim*1\n",
    "            adagrad += gradient ** 2\n",
    "            self.ω = self.ω - self.lr * gradient / np.sqrt(adagrad + self.eps)\n",
    "            \n",
    "        return self\n",
    "    \n",
    "    def predict(self, x):\n",
    "        return np.dot(x, self.ω)\n",
    "    \n",
    "    def weight():\n",
    "        return self.w"
   ]
  },
  {
   "cell_type": "code",
   "execution_count": null,
   "metadata": {},
   "outputs": [],
   "source": []
  },
  {
   "cell_type": "markdown",
   "metadata": {},
   "source": [
    "## Training"
   ]
  },
  {
   "cell_type": "code",
   "execution_count": 94,
   "metadata": {},
   "outputs": [],
   "source": [
    "## 前製作業\n",
    "DATA_PATH = \"../data/train.csv\"\n",
    "X, Y = Read_Data(DATA_PATH)"
   ]
  },
  {
   "cell_type": "code",
   "execution_count": 95,
   "metadata": {},
   "outputs": [
    {
     "name": "stdout",
     "output_type": "stream",
     "text": [
      "500:6.118905961906962\n",
      "1000:5.77993870977707\n",
      "1500:5.670052566785369\n",
      "2000:5.615819290538504\n",
      "2500:5.586335526349196\n",
      "3000:5.569560627540151\n",
      "Folder: 0, Loss: 6.285064241206787\n",
      "500:6.242019986155406\n",
      "1000:5.919013056671352\n",
      "1500:5.814075280506351\n",
      "2000:5.760122078170419\n",
      "2500:5.729007297065529\n",
      "3000:5.710062999146107\n",
      "Folder: 1, Loss: 5.756882377852687\n",
      "500:6.485854315461657\n",
      "1000:6.130348600639498\n",
      "1500:5.973344458517011\n",
      "2000:5.883511865566699\n",
      "2500:5.8282728650356095\n",
      "3000:5.7932718164097885\n",
      "Folder: 2, Loss: 5.584119170909978\n",
      "500:6.225879784561205\n",
      "1000:5.892436188443931\n",
      "1500:5.781382278699425\n",
      "2000:5.726499964972605\n",
      "2500:5.696638046028178\n",
      "3000:5.6796453463139365\n",
      "Folder: 3, Loss: 5.584119170909978\n",
      "500:6.134328893931342\n",
      "1000:5.92868984629562\n",
      "1500:5.849452861022927\n",
      "2000:5.808884565253724\n",
      "2500:5.7859967536280985\n",
      "3000:5.772517000502007\n",
      "Folder: 4, Loss: 5.453961062511527\n"
     ]
    }
   ],
   "source": [
    "N_FOLDS  = 5\n",
    "train_idx, valid_idx = K_Fold(X.shape[0], 9, N_FOLDS)\n",
    "\n",
    "weight_best = None\n",
    "loss_best = sys.maxsize\n",
    "\n",
    "for i in range(N_FOLDS):\n",
    "    LRGD = LinearRegressionUsingGD()\n",
    "    \n",
    "    x_train = np.asarray([X[idx] for idx in train_idx[i]])\n",
    "    y_train = Y[train_idx[i]]\n",
    "    \n",
    "    x_valid = np.asarray([X[idx] for idx in valid_idx[i]])\n",
    "    y_valid = Y[valid_idx[i]]\n",
    "    \n",
    "    LRGD.fit(x_train, y_train)\n",
    "    y_pred = LRGD.predict(x_valid)\n",
    "    loss = np.sqrt(np.mean(np.power(y_valid - y_pred, 2)))#rmse\n",
    "    \n",
    "    if loss < loss_best:\n",
    "        weight_best = LRGD.weight\n",
    "        loss_best = loss\n",
    "\n",
    "    print(\"Folder: {}, Loss: {}\".format(i, loss_best))"
   ]
  },
  {
   "cell_type": "code",
   "execution_count": null,
   "metadata": {},
   "outputs": [],
   "source": []
  }
 ],
 "metadata": {
  "kernelspec": {
   "display_name": "Python 3",
   "language": "python",
   "name": "python3"
  },
  "language_info": {
   "codemirror_mode": {
    "name": "ipython",
    "version": 3
   },
   "file_extension": ".py",
   "mimetype": "text/x-python",
   "name": "python",
   "nbconvert_exporter": "python",
   "pygments_lexer": "ipython3",
   "version": "3.6.9"
  }
 },
 "nbformat": 4,
 "nbformat_minor": 2
}
