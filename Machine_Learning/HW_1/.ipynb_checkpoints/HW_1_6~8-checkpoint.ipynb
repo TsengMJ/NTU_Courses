{
 "cells": [
  {
   "cell_type": "code",
   "execution_count": 9,
   "metadata": {},
   "outputs": [],
   "source": [
    "from numpy import linalg as LA\n",
    "from numpy import random\n",
    "import matplotlib.pyplot as plt\n",
    "import numpy as np\n",
    "import pandas as pd\n",
    "import os"
   ]
  },
  {
   "cell_type": "markdown",
   "metadata": {},
   "source": [
    "## Functions"
   ]
  },
  {
   "cell_type": "code",
   "execution_count": 2,
   "metadata": {},
   "outputs": [],
   "source": [
    "def readData(fileName):\n",
    "    content = np.asarray([i.split() for i in open(fileName).readlines()], dtype='float')\n",
    "    points = np.ones(content.shape)\n",
    "    points[:, 1:] = content[:, :4]\n",
    "    labels = content[:, 4:].flatten()\n",
    "    \n",
    "    return points, labels\n",
    "\n",
    "def readRandom(fileName):\n",
    "    content = np.asarray([i.split() for i in open(fileName).readlines()], dtype='float')\n",
    "    random.shuffle(content)\n",
    "    points = np.ones(content.shape)\n",
    "    points[:, 1:] = content[:, :4]\n",
    "    labels = content[:, 4:].flatten()\n",
    "    \n",
    "    return points, labels\n"
   ]
  },
  {
   "cell_type": "markdown",
   "metadata": {},
   "source": [
    "## PLA"
   ]
  },
  {
   "cell_type": "code",
   "execution_count": 4,
   "metadata": {},
   "outputs": [],
   "source": [
    "def pla(points, labels, lr=1):\n",
    "    weight = np.zeros((points.shape[1]), dtype='float')\n",
    "\n",
    "    roundNumber = 0\n",
    "    changed = True\n",
    "    while(changed):\n",
    "        changed = False\n",
    "        for i, point in enumerate(points):\n",
    "            predict = np.inner(weight, point)\n",
    "            if(predict*labels[i] <= 0):\n",
    "                weight = weight + lr*labels[i]*point\n",
    "                roundNumber += 1\n",
    "                changed = True\n",
    "                \n",
    "    return weight, roundNumber"
   ]
  },
  {
   "cell_type": "markdown",
   "metadata": {},
   "source": [
    "## Problem 6"
   ]
  },
  {
   "cell_type": "code",
   "execution_count": 21,
   "metadata": {},
   "outputs": [
    {
     "name": "stdout",
     "output_type": "stream",
     "text": [
      "40.13587921847247\n"
     ]
    },
    {
     "data": {
      "image/png": "[encoded data removed]",
      "text/plain": [
       "<Figure size 432x288 with 1 Axes>"
      ]
     },
     "metadata": {
      "needs_background": "light"
     },
     "output_type": "display_data"
    }
   ],
   "source": [
    "avgRoundNumber = 0\n",
    "roundNumbers = []\n",
    "for i in range(0,1126):\n",
    "    points, labels = readRandom(\"hw1_6_train.dat.txt\")\n",
    "    weight, roundNumber = pla(points, labels)\n",
    "    avgRoundNumber += roundNumber\n",
    "    roundNumbers.append(roundNumber)\n",
    "    \n",
    "\n",
    "plt.hist(roundNumbers, bins=50)\n",
    "plt.savefig('problem_6.png')\n",
    "print(avgRoundNumber/1126)"
   ]
  },
  {
   "cell_type": "markdown",
   "metadata": {},
   "source": [
    "## Pocket Algorithm"
   ]
  },
  {
   "cell_type": "code",
   "execution_count": 22,
   "metadata": {},
   "outputs": [],
   "source": [
    "def pocketAlgo(points, labels, roundTimes=2000, updateTimes=50):\n",
    "    weight = np.zeros((points.shape[1]), dtype='float')\n",
    "    bestWeight = np.zeros((points.shape[1]), dtype='float')\n",
    "    size = points.shape[0]\n",
    "    miniError = 1\n",
    "    changedTimes = 1\n",
    "    \n",
    "    ## Training\n",
    "    changed = True\n",
    "    while(changed):\n",
    "        changed = False\n",
    "        for i, point in enumerate(points):\n",
    "            \n",
    "            if(changedTimes == updateTimes):\n",
    "                changed = False\n",
    "                break\n",
    "            \n",
    "            predict = np.inner(weight, point)\n",
    "            if(predict*labels[i] <= 0):\n",
    "                weight = weight + labels[i]*point\n",
    "                changed = True\n",
    "                changedTimes += 1\n",
    "\n",
    "                error = 0\n",
    "                for i, point in enumerate(points):\n",
    "                    predict = np.inner(weight, point)\n",
    "                    if(predict*labels[i] <= 0):\n",
    "                        error += 1\n",
    "\n",
    "                if(miniError > error/size):\n",
    "                    miniError = error/size\n",
    "                    bestWeight = weight    \n",
    "    \n",
    "    return bestWeight, weight\n",
    "\n",
    "def evaluateOnTestingSet(points, labels, weight):\n",
    "    size = points.shape[0]\n",
    "    error = 0\n",
    "    for i, point in enumerate(points):\n",
    "        predict = np.inner(weight, point)\n",
    "        if(predict*labels[i] <= 0):\n",
    "            error += 1\n",
    "    \n",
    "    return error/size"
   ]
  },
  {
   "cell_type": "markdown",
   "metadata": {},
   "source": [
    "## Problem 7"
   ]
  },
  {
   "cell_type": "code",
   "execution_count": 23,
   "metadata": {},
   "outputs": [
    {
     "name": "stdout",
     "output_type": "stream",
     "text": [
      "0.13166429840142094\n"
     ]
    },
    {
     "data": {
      "image/png": "[encoded data removed]",
      "text/plain": [
       "<Figure size 432x288 with 1 Axes>"
      ]
     },
     "metadata": {
      "needs_background": "light"
     },
     "output_type": "display_data"
    }
   ],
   "source": [
    "evgTestingError = 0\n",
    "roundNumbers = []\n",
    "for _ in range(0,1126):\n",
    "    ## Training\n",
    "    points, labels = readRandom(\"hw1_7_train.dat.txt\")\n",
    "    bestweight, weight = pocketAlgo(points, labels, roundTimes=2000, updateTimes=50)\n",
    "                \n",
    "\n",
    "    ## Testing\n",
    "    points, labels = readRandom(\"hw1_7_test.dat.txt\")\n",
    "    errorRate = evaluateOnTestingSet(points, labels, weight=bestweight)\n",
    "    evgTestingError += errorRate\n",
    "    roundNumbers.append(errorRate) \n",
    "\n",
    "plt.hist(roundNumbers, bins=50)\n",
    "plt.savefig('problem_7.png')\n",
    "print(evgTestingError/1126)"
   ]
  },
  {
   "cell_type": "markdown",
   "metadata": {},
   "source": [
    "## Problem 8"
   ]
  },
  {
   "cell_type": "code",
   "execution_count": 25,
   "metadata": {},
   "outputs": [
    {
     "ename": "KeyboardInterrupt",
     "evalue": "",
     "output_type": "error",
     "traceback": [
      "\u001b[0;31m---------------------------------------------------------------------------\u001b[0m",
      "\u001b[0;31mKeyboardInterrupt\u001b[0m                         Traceback (most recent call last)",
      "\u001b[0;32m<ipython-input-25-d2bf924e0d1c>\u001b[0m in \u001b[0;36m<module>\u001b[0;34m\u001b[0m\n\u001b[1;32m      4\u001b[0m     \u001b[0;31m## Training\u001b[0m\u001b[0;34m\u001b[0m\u001b[0;34m\u001b[0m\u001b[0;34m\u001b[0m\u001b[0m\n\u001b[1;32m      5\u001b[0m     \u001b[0mpoints\u001b[0m\u001b[0;34m,\u001b[0m \u001b[0mlabels\u001b[0m \u001b[0;34m=\u001b[0m \u001b[0mreadRandom\u001b[0m\u001b[0;34m(\u001b[0m\u001b[0;34m\"hw1_7_train.dat.txt\"\u001b[0m\u001b[0;34m)\u001b[0m\u001b[0;34m\u001b[0m\u001b[0;34m\u001b[0m\u001b[0m\n\u001b[0;32m----> 6\u001b[0;31m     \u001b[0mbestweight\u001b[0m\u001b[0;34m,\u001b[0m \u001b[0mweight\u001b[0m \u001b[0;34m=\u001b[0m \u001b[0mpocketAlgo\u001b[0m\u001b[0;34m(\u001b[0m\u001b[0mpoints\u001b[0m\u001b[0;34m,\u001b[0m \u001b[0mlabels\u001b[0m\u001b[0;34m,\u001b[0m \u001b[0mroundTimes\u001b[0m\u001b[0;34m=\u001b[0m\u001b[0;36m2000\u001b[0m\u001b[0;34m,\u001b[0m \u001b[0mupdateTimes\u001b[0m\u001b[0;34m=\u001b[0m\u001b[0;36m100\u001b[0m\u001b[0;34m)\u001b[0m\u001b[0;34m\u001b[0m\u001b[0;34m\u001b[0m\u001b[0m\n\u001b[0m\u001b[1;32m      7\u001b[0m \u001b[0;34m\u001b[0m\u001b[0m\n\u001b[1;32m      8\u001b[0m \u001b[0;34m\u001b[0m\u001b[0m\n",
      "\u001b[0;32m<ipython-input-22-ed0be82ba83b>\u001b[0m in \u001b[0;36mpocketAlgo\u001b[0;34m(points, labels, roundTimes, updateTimes)\u001b[0m\n\u001b[1;32m     24\u001b[0m                 \u001b[0merror\u001b[0m \u001b[0;34m=\u001b[0m \u001b[0;36m0\u001b[0m\u001b[0;34m\u001b[0m\u001b[0;34m\u001b[0m\u001b[0m\n\u001b[1;32m     25\u001b[0m                 \u001b[0;32mfor\u001b[0m \u001b[0mi\u001b[0m\u001b[0;34m,\u001b[0m \u001b[0mpoint\u001b[0m \u001b[0;32min\u001b[0m \u001b[0menumerate\u001b[0m\u001b[0;34m(\u001b[0m\u001b[0mpoints\u001b[0m\u001b[0;34m)\u001b[0m\u001b[0;34m:\u001b[0m\u001b[0;34m\u001b[0m\u001b[0;34m\u001b[0m\u001b[0m\n\u001b[0;32m---> 26\u001b[0;31m                     \u001b[0mpredict\u001b[0m \u001b[0;34m=\u001b[0m \u001b[0mnp\u001b[0m\u001b[0;34m.\u001b[0m\u001b[0minner\u001b[0m\u001b[0;34m(\u001b[0m\u001b[0mweight\u001b[0m\u001b[0;34m,\u001b[0m \u001b[0mpoint\u001b[0m\u001b[0;34m)\u001b[0m\u001b[0;34m\u001b[0m\u001b[0;34m\u001b[0m\u001b[0m\n\u001b[0m\u001b[1;32m     27\u001b[0m                     \u001b[0;32mif\u001b[0m\u001b[0;34m(\u001b[0m\u001b[0mpredict\u001b[0m\u001b[0;34m*\u001b[0m\u001b[0mlabels\u001b[0m\u001b[0;34m[\u001b[0m\u001b[0mi\u001b[0m\u001b[0;34m]\u001b[0m \u001b[0;34m<=\u001b[0m \u001b[0;36m0\u001b[0m\u001b[0;34m)\u001b[0m\u001b[0;34m:\u001b[0m\u001b[0;34m\u001b[0m\u001b[0;34m\u001b[0m\u001b[0m\n\u001b[1;32m     28\u001b[0m                         \u001b[0merror\u001b[0m \u001b[0;34m+=\u001b[0m \u001b[0;36m1\u001b[0m\u001b[0;34m\u001b[0m\u001b[0;34m\u001b[0m\u001b[0m\n",
      "\u001b[0;31mKeyboardInterrupt\u001b[0m: "
     ]
    }
   ],
   "source": [
    "evgTestingError = 0\n",
    "roundNumbers = []\n",
    "for _ in range(0,1126):\n",
    "    ## Training\n",
    "    points, labels = readRandom(\"hw1_7_train.dat.txt\")\n",
    "    bestweight, weight = pocketAlgo(points, labels, roundTimes=2000, updateTimes=100)\n",
    "                \n",
    "\n",
    "    ## Testing\n",
    "    points, labels = readRandom(\"hw1_7_test.dat.txt\")\n",
    "    errorRate = evaluateOnTestingSet(points, labels, weight=weight)\n",
    "    evgTestingError += errorRate\n",
    "    roundNumbers.append(errorRate) \n",
    "\n",
    "plt.hist(roundNumbers, bins=50)\n",
    "plt.savefig('problem_8.png')\n",
    "print(evgTestingError/1126)"
   ]
  },
  {
   "cell_type": "code",
   "execution_count": null,
   "metadata": {},
   "outputs": [],
   "source": []
  }
 ],
 "metadata": {
  "kernelspec": {
   "display_name": "Python 3",
   "language": "python",
   "name": "python3"
  },
  "language_info": {
   "codemirror_mode": {
    "name": "ipython",
    "version": 3
   },
   "file_extension": ".py",
   "mimetype": "text/x-python",
   "name": "python",
   "nbconvert_exporter": "python",
   "pygments_lexer": "ipython3",
   "version": "3.6.9"
  }
 },
 "nbformat": 4,
 "nbformat_minor": 2
}
