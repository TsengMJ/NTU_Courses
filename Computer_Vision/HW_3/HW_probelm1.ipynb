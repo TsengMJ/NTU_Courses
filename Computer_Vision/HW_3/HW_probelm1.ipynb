{
 "cells": [
  {
   "cell_type": "code",
   "execution_count": 2,
   "metadata": {},
   "outputs": [],
   "source": [
    "import matplotlib.pyplot as plt\n",
    "import numpy as np\n",
    "import cv2\n",
    "import os"
   ]
  },
  {
   "cell_type": "markdown",
   "metadata": {},
   "source": [
    "### Read lena.bmp"
   ]
  },
  {
   "cell_type": "code",
   "execution_count": 3,
   "metadata": {},
   "outputs": [],
   "source": [
    "img = cv2.imread(\"lena.bmp\")\n",
    "gray = cv2.cvtColor(img, cv2.COLOR_BGR2GRAY)"
   ]
  },
  {
   "cell_type": "markdown",
   "metadata": {},
   "source": [
    "## (a) original image and its histogram"
   ]
  },
  {
   "cell_type": "code",
   "execution_count": 4,
   "metadata": {},
   "outputs": [
    {
     "data": {
      "image/png": "[encoded data removed]",
      "text/plain": [
       "<Figure size 432x288 with 1 Axes>"
      ]
     },
     "metadata": {
      "needs_background": "light"
     },
     "output_type": "display_data"
    }
   ],
   "source": [
    "tmp = img.copy()\n",
    "img_h, img_w = tmp.shape[:2]\n",
    "x_axis = range(0,256)\n",
    "y_axis = [0]*256\n",
    "\n",
    "for i in range(img_h):\n",
    "    for j in range(img_w):\n",
    "        y_axis[tmp[i,j,0]] += 1\n",
    "\n",
    "plt.bar(x_axis,y_axis, width=1)\n",
    "plt.savefig(\"ori_histo.png\")\n",
    "plt.show()"
   ]
  },
  {
   "cell_type": "markdown",
   "metadata": {},
   "source": [
    "## (b) image with intensity divided by 3 and its histogram"
   ]
  },
  {
   "cell_type": "code",
   "execution_count": 37,
   "metadata": {},
   "outputs": [
    {
     "data": {
      "image/png": "[encoded data removed]",
      "text/plain": [
       "<Figure size 432x288 with 1 Axes>"
      ]
     },
     "metadata": {
      "needs_background": "light"
     },
     "output_type": "display_data"
    }
   ],
   "source": [
    "tmp = img.copy()/3\n",
    "tmp = tmp.astype('int8')\n",
    "img_h, img_w = tmp.shape[:2]\n",
    "x_axis = range(0,256)\n",
    "y_axis = [0]*256\n",
    "\n",
    "for i in range(img_h):\n",
    "    for j in range(img_w):\n",
    "        y_axis[tmp[i,j,0]] += 1\n",
    "\n",
    "plt.bar(x_axis,y_axis, width=1)\n",
    "plt.savefig(\"divided_3_histo.png\")\n",
    "plt.show()"
   ]
  },
  {
   "cell_type": "markdown",
   "metadata": {},
   "source": [
    "## (c) image after applying histogram equalization to (b) and its histogram"
   ]
  },
  {
   "cell_type": "code",
   "execution_count": 38,
   "metadata": {},
   "outputs": [
    {
     "data": {
      "image/png": "[encoded data removed]",
      "text/plain": [
       "<Figure size 432x288 with 1 Axes>"
      ]
     },
     "metadata": {
      "needs_background": "light"
     },
     "output_type": "display_data"
    }
   ],
   "source": [
    "# Using last tmp which is img/3\n",
    "tmp = img.copy()/3\n",
    "tmp = tmp.astype('uint8')\n",
    "pixels_total = img_h*img_w\n",
    "pixels_sum = 0\n",
    "cvt_tabel = [0]*256\n",
    "\n",
    "for i in range(0, 256):\n",
    "    pixels_sum += y_axis[i]\n",
    "    cvt_tabel[i] = int(round(255*pixels_sum/pixels_total))\n",
    "    \n",
    "for i in range(img_h):\n",
    "    for j in range(img_w):\n",
    "        tmp[i][j][:] = cvt_tabel[tmp[i][j][0]]\n",
    "\n",
    "y_axis = [0]*256\n",
    "for i in range(img_h):\n",
    "    for j in range(img_w):\n",
    "        y_axis[tmp[i,j,0]] += 1\n",
    "        \n",
    "cv2.imwrite(\"Histo_equ.png\", tmp)\n",
    "plt.bar(x_axis,y_axis, width=1)\n",
    "plt.savefig(\"equ_histo.png\")\n",
    "plt.show()"
   ]
  },
  {
   "cell_type": "code",
   "execution_count": 25,
   "metadata": {},
   "outputs": [
    {
     "data": {
      "text/plain": [
       "255"
      ]
     },
     "execution_count": 25,
     "metadata": {},
     "output_type": "execute_result"
    }
   ],
   "source": [
    "cvt_tabel[tmp[0][0][0]]"
   ]
  },
  {
   "cell_type": "code",
   "execution_count": 39,
   "metadata": {},
   "outputs": [
    {
     "data": {
      "text/plain": [
       "205"
      ]
     },
     "execution_count": 39,
     "metadata": {},
     "output_type": "execute_result"
    }
   ],
   "source": [
    "tmp[0][0][0]"
   ]
  },
  {
   "cell_type": "code",
   "execution_count": null,
   "metadata": {},
   "outputs": [],
   "source": []
  },
  {
   "cell_type": "code",
   "execution_count": null,
   "metadata": {},
   "outputs": [],
   "source": []
  }
 ],
 "metadata": {
  "kernelspec": {
   "display_name": "Python 3",
   "language": "python",
   "name": "python3"
  },
  "language_info": {
   "codemirror_mode": {
    "name": "ipython",
    "version": 3
   },
   "file_extension": ".py",
   "mimetype": "text/x-python",
   "name": "python",
   "nbconvert_exporter": "python",
   "pygments_lexer": "ipython3",
   "version": "3.6.9"
  }
 },
 "nbformat": 4,
 "nbformat_minor": 2
}
